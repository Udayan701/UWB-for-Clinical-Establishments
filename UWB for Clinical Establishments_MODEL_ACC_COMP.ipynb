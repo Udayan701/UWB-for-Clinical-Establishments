{
 "cells": [
  {
   "cell_type": "code",
   "execution_count": 1,
   "id": "ab3a2b68",
   "metadata": {},
   "outputs": [],
   "source": [
    "import pandas as pd\n",
    "import numpy as np\n",
    "import time\n",
    "from sklearn.model_selection import train_test_split\n",
    "from sklearn.neighbors import KNeighborsClassifier\n",
    "from sklearn.ensemble import RandomForestClassifier\n",
    "from sklearn import metrics\n",
    "from sklearn.metrics import  classification_report,confusion_matrix\n",
    "import matplotlib.pyplot as plt\n",
    "%matplotlib inline"
   ]
  },
  {
   "cell_type": "code",
   "execution_count": 2,
   "id": "c9a8a28a",
   "metadata": {},
   "outputs": [],
   "source": [
    "# Read dataset csv with ; seperator\n",
    "df = pd.read_csv ('clinical_dataset.csv',sep=';')"
   ]
  },
  {
   "cell_type": "code",
   "execution_count": 3,
   "id": "2837612c",
   "metadata": {},
   "outputs": [],
   "source": [
    "# Preprocessing of the clinical dataset\n",
    "# Convert nominal features to numerical\n",
    "df['fried'].replace(['Non frail','Pre-frail','Frail'],[0,1,2],inplace=True)\n",
    "df['gender'].replace(['F','M'],[0,1],inplace=True)\n",
    "df['ortho_hypotension'].replace(['No','Yes'],[0,1],inplace=True)\n",
    "df['vision'].replace(['Sees poorly','Sees moderately','Sees well'],[0,1,2],inplace=True)\n",
    "df['audition'].replace(['Hears poorly','Hears moderately','Hears well'],[0,1,2],inplace=True)\n",
    "df['weight_loss'].replace(['No','Yes'],[0,1],inplace=True)\n",
    "df['balance_single'].replace(['<5 sec','>5 sec'],[0,1],inplace=True)\n",
    "df['gait_optional_binary'] = df['gait_optional_binary'].astype(int)\n",
    "df['gait_speed_slower'].replace(['No','Yes'],[0,1],inplace=True)\n",
    "df['grip_strength_abnormal'].replace(['No','Yes'],[0,1],inplace=True)\n",
    "df['low_physical_activity'].replace(['No','Yes'],[0,1],inplace=True)\n",
    "df['memory_complain'].replace(['No','Yes'],[0,1],inplace=True)\n",
    "df['sleep'].replace(['No sleep problem','Occasional sleep problem','Permanent sleep problem'],[0,1,2],inplace=True)\n",
    "df['living_alone'].replace(['No','Yes'],[0,1],inplace=True)\n",
    "df['leisure_club'].replace(['No','Yes'],[0,1],inplace=True)\n",
    "df['house_suitable_participant'].replace(['No','Yes'],[0,1],inplace=True)\n",
    "df['house_suitable_professional'].replace(['No','Yes'],[0,1],inplace=True)\n",
    "df['health_rate'].replace(['1 - Very bad','2 - Bad','3 - Medium','4 - Good','5 - Excellent'],[0,1,2,3,4],inplace=True)\n",
    "df['health_rate_comparison'].replace(['1 - A lot worse','2 - A little worse','3 - About the same','4 - A little better','5 - A lot better'],[0,1,2,3,4],inplace=True)\n",
    "df['activity_regular'].replace(['No','< 2 h per week','> 2 h and < 5 h per week','> 5 h per week'],[0,1,2,3],inplace=True)\n",
    "df['smoking'].replace(['Never smoked','Past smoker (stopped at least 6 months)','Current smoker'],[0,1,2],inplace=True)\n"
   ]
  },
  {
   "cell_type": "code",
   "execution_count": 4,
   "id": "467025c5",
   "metadata": {},
   "outputs": [],
   "source": [
    "# Remove erroneous values\n",
    "missing_values=[999,'test non realizable','Test not adequate']\n",
    "df.replace(missing_values,'',inplace=True)"
   ]
  },
  {
   "cell_type": "code",
   "execution_count": 5,
   "id": "02d22a3c",
   "metadata": {},
   "outputs": [],
   "source": [
    "# Handle missing values\n",
    "# Replace empty values with NaN object\n",
    "df.replace('', np.nan, inplace=True)\n",
    "# Remove entries with missing values in some features\n",
    "df.dropna(inplace=True)"
   ]
  },
  {
   "cell_type": "code",
   "execution_count": 6,
   "id": "6dab9e4c",
   "metadata": {},
   "outputs": [],
   "source": [
    "# Classification with KNN\n",
    "# Drop fried and 5 parameters used for generating the fried categorization\n",
    "X = df.drop(columns=['fried','weight_loss','exhaustion_score','gait_speed_slower','grip_strength_abnormal','low_physical_activity'])"
   ]
  },
  {
   "cell_type": "code",
   "execution_count": 7,
   "id": "29d3b7f7",
   "metadata": {},
   "outputs": [],
   "source": [
    "# Assign fried column to y\n",
    "y = df['fried'].values"
   ]
  },
  {
   "cell_type": "code",
   "execution_count": 8,
   "id": "ce0805b9",
   "metadata": {},
   "outputs": [],
   "source": [
    "# Split dataset to train and test sets with 20% ratio\n",
    "X_train, X_test, y_train, y_test = train_test_split(X, y, test_size=0.20, random_state=1)\n",
    "start = time.time()"
   ]
  },
  {
   "cell_type": "code",
   "execution_count": 9,
   "id": "31e96982",
   "metadata": {},
   "outputs": [],
   "source": [
    "# Initialize KNN classifier with number of neighbors to 5\n",
    "knn = KNeighborsClassifier(n_neighbors = 5)"
   ]
  },
  {
   "cell_type": "code",
   "execution_count": 10,
   "id": "5b4e6537",
   "metadata": {},
   "outputs": [
    {
     "data": {
      "text/plain": [
       "KNeighborsClassifier()"
      ]
     },
     "execution_count": 10,
     "metadata": {},
     "output_type": "execute_result"
    }
   ],
   "source": [
    "# Fit the k-nearest neighbors classifier from the training dataset\n",
    "knn.fit(X_train,y_train)"
   ]
  },
  {
   "cell_type": "code",
   "execution_count": 11,
   "id": "cc660d1a",
   "metadata": {},
   "outputs": [],
   "source": [
    "# Make the prediction\n",
    "y_pred = knn.predict(X_test)"
   ]
  },
  {
   "cell_type": "code",
   "execution_count": 12,
   "id": "d2ef4dcd",
   "metadata": {},
   "outputs": [
    {
     "name": "stdout",
     "output_type": "stream",
     "text": [
      "KNN Accuracy: 65.38 %\n",
      "3.300150156021118 seconds\n"
     ]
    }
   ],
   "source": [
    "accuracy1 = float(\"{:.2f}\".format(metrics.accuracy_score(y_test, y_pred) * 100))\n",
    "print(\"KNN Accuracy:\",accuracy1, \"%\")\n",
    "end = time.time()\n",
    "print(end - start, \"seconds\")\n",
    "start = time.time()"
   ]
  },
  {
   "cell_type": "code",
   "execution_count": 13,
   "id": "dfe092f2",
   "metadata": {},
   "outputs": [
    {
     "name": "stdout",
     "output_type": "stream",
     "text": [
      "DT precision, recall, f1-score, support score:\n",
      "\n",
      "              precision    recall  f1-score   support\n",
      "\n",
      "           0       0.62      0.89      0.74        28\n",
      "           1       0.75      0.39      0.51        23\n",
      "           2       0.00      0.00      0.00         1\n",
      "\n",
      "    accuracy                           0.65        52\n",
      "   macro avg       0.46      0.43      0.42        52\n",
      "weighted avg       0.67      0.65      0.62        52\n",
      "\n"
     ]
    },
    {
     "name": "stderr",
     "output_type": "stream",
     "text": [
      "D:\\Users\\debna\\anaconda3\\lib\\site-packages\\sklearn\\metrics\\_classification.py:1318: UndefinedMetricWarning: Precision and F-score are ill-defined and being set to 0.0 in labels with no predicted samples. Use `zero_division` parameter to control this behavior.\n",
      "  _warn_prf(average, modifier, msg_start, len(result))\n",
      "D:\\Users\\debna\\anaconda3\\lib\\site-packages\\sklearn\\metrics\\_classification.py:1318: UndefinedMetricWarning: Precision and F-score are ill-defined and being set to 0.0 in labels with no predicted samples. Use `zero_division` parameter to control this behavior.\n",
      "  _warn_prf(average, modifier, msg_start, len(result))\n",
      "D:\\Users\\debna\\anaconda3\\lib\\site-packages\\sklearn\\metrics\\_classification.py:1318: UndefinedMetricWarning: Precision and F-score are ill-defined and being set to 0.0 in labels with no predicted samples. Use `zero_division` parameter to control this behavior.\n",
      "  _warn_prf(average, modifier, msg_start, len(result))\n"
     ]
    }
   ],
   "source": [
    "print(\"DT precision, recall, f1-score, support score:\\n\")\n",
    "print(classification_report(y_test, y_pred))"
   ]
  },
  {
   "cell_type": "code",
   "execution_count": 15,
   "id": "8d830ee8",
   "metadata": {},
   "outputs": [
    {
     "name": "stdout",
     "output_type": "stream",
     "text": [
      "[[25  3  0]\n",
      " [14  9  0]\n",
      " [ 1  0  0]]\n"
     ]
    }
   ],
   "source": [
    "from sklearn.metrics import confusion_matrix, accuracy_score\n",
    "confmat = confusion_matrix(y_test, knn.predict(X_test))\n",
    "print(confmat)"
   ]
  },
  {
   "cell_type": "code",
   "execution_count": 16,
   "id": "98f28dff",
   "metadata": {},
   "outputs": [
    {
     "data": {
      "image/png": "[encoded data removed]",
      "text/plain": [
       "<Figure size 180x180 with 1 Axes>"
      ]
     },
     "metadata": {
      "needs_background": "light"
     },
     "output_type": "display_data"
    }
   ],
   "source": [
    "fig, ax = plt.subplots(figsize=(2.5, 2.5))\n",
    "ax.matshow(confmat, alpha=0.3)\n",
    "for i in range(confmat.shape[0]):\n",
    "  for j in range(confmat.shape[1]):\n",
    "    ax.text(x=j, y=i, s=confmat[i, j], va='center', ha='center')"
   ]
  },
  {
   "cell_type": "code",
   "execution_count": 17,
   "id": "4ea4e75d",
   "metadata": {},
   "outputs": [],
   "source": [
    "#classsification with random forest\n",
    "clf=RandomForestClassifier(n_estimators=25,random_state=1)"
   ]
  },
  {
   "cell_type": "code",
   "execution_count": 18,
   "id": "1a32208b",
   "metadata": {},
   "outputs": [
    {
     "data": {
      "text/plain": [
       "RandomForestClassifier(n_estimators=25, random_state=1)"
      ]
     },
     "execution_count": 18,
     "metadata": {},
     "output_type": "execute_result"
    }
   ],
   "source": [
    "#Fit the random forest classifier from the training dataset\n",
    "clf.fit(X_train,y_train)"
   ]
  },
  {
   "cell_type": "code",
   "execution_count": 19,
   "id": "331e4424",
   "metadata": {},
   "outputs": [],
   "source": [
    "# Make the prediction\n",
    "y_pred=clf.predict(X_test)"
   ]
  },
  {
   "cell_type": "code",
   "execution_count": 20,
   "id": "8744c72e",
   "metadata": {},
   "outputs": [],
   "source": [
    "# Model Accuracy\n",
    "accuracy2 = float(\"{:.2f}\".format(metrics.accuracy_score(y_test, y_pred) * 100))"
   ]
  },
  {
   "cell_type": "code",
   "execution_count": 21,
   "id": "2cbac34d",
   "metadata": {
    "scrolled": true
   },
   "outputs": [
    {
     "name": "stdout",
     "output_type": "stream",
     "text": [
      "RF Accuracy: 73.08 %\n",
      "16.11806893348694 seconds\n"
     ]
    }
   ],
   "source": [
    "#print(classification_report(y_test, y_pred))\n",
    "print(\"RF Accuracy:\",accuracy2, \"%\")\n",
    "end = time.time()\n",
    "print(end - start, \"seconds\")"
   ]
  },
  {
   "cell_type": "code",
   "execution_count": 22,
   "id": "2a309712",
   "metadata": {},
   "outputs": [
    {
     "name": "stdout",
     "output_type": "stream",
     "text": [
      "RF precision, recall, f1-score, support score:\n",
      "\n",
      "              precision    recall  f1-score   support\n",
      "\n",
      "           0       0.68      0.93      0.79        28\n",
      "           1       0.86      0.52      0.65        23\n",
      "           2       0.00      0.00      0.00         1\n",
      "\n",
      "    accuracy                           0.73        52\n",
      "   macro avg       0.51      0.48      0.48        52\n",
      "weighted avg       0.75      0.73      0.71        52\n",
      "\n"
     ]
    },
    {
     "name": "stderr",
     "output_type": "stream",
     "text": [
      "D:\\Users\\debna\\anaconda3\\lib\\site-packages\\sklearn\\metrics\\_classification.py:1318: UndefinedMetricWarning: Precision and F-score are ill-defined and being set to 0.0 in labels with no predicted samples. Use `zero_division` parameter to control this behavior.\n",
      "  _warn_prf(average, modifier, msg_start, len(result))\n",
      "D:\\Users\\debna\\anaconda3\\lib\\site-packages\\sklearn\\metrics\\_classification.py:1318: UndefinedMetricWarning: Precision and F-score are ill-defined and being set to 0.0 in labels with no predicted samples. Use `zero_division` parameter to control this behavior.\n",
      "  _warn_prf(average, modifier, msg_start, len(result))\n",
      "D:\\Users\\debna\\anaconda3\\lib\\site-packages\\sklearn\\metrics\\_classification.py:1318: UndefinedMetricWarning: Precision and F-score are ill-defined and being set to 0.0 in labels with no predicted samples. Use `zero_division` parameter to control this behavior.\n",
      "  _warn_prf(average, modifier, msg_start, len(result))\n"
     ]
    }
   ],
   "source": [
    "print(\"RF precision, recall, f1-score, support score:\\n\")\n",
    "print(classification_report(y_test, y_pred))"
   ]
  },
  {
   "cell_type": "code",
   "execution_count": 23,
   "id": "96077863",
   "metadata": {},
   "outputs": [
    {
     "name": "stdout",
     "output_type": "stream",
     "text": [
      "[[26  2  0]\n",
      " [11 12  0]\n",
      " [ 1  0  0]]\n"
     ]
    }
   ],
   "source": [
    "from sklearn.metrics import confusion_matrix, accuracy_score\n",
    "confmat = confusion_matrix(y_test, clf.predict(X_test))\n",
    "print(confmat)"
   ]
  },
  {
   "cell_type": "code",
   "execution_count": 24,
   "id": "ee679005",
   "metadata": {},
   "outputs": [
    {
     "data": {
      "image/png": "[encoded data removed]",
      "text/plain": [
       "<Figure size 180x180 with 1 Axes>"
      ]
     },
     "metadata": {
      "needs_background": "light"
     },
     "output_type": "display_data"
    }
   ],
   "source": [
    "fig, ax = plt.subplots(figsize=(2.5, 2.5))\n",
    "ax.matshow(confmat, alpha=0.3)\n",
    "for i in range(confmat.shape[0]):\n",
    "  for j in range(confmat.shape[1]):\n",
    "    ax.text(x=j, y=i, s=confmat[i, j], va='center', ha='center')"
   ]
  },
  {
   "cell_type": "code",
   "execution_count": 25,
   "id": "f73564c1",
   "metadata": {},
   "outputs": [
    {
     "data": {
      "text/plain": [
       "DecisionTreeClassifier()"
      ]
     },
     "execution_count": 25,
     "metadata": {},
     "output_type": "execute_result"
    }
   ],
   "source": [
    "from sklearn.tree import DecisionTreeClassifier\n",
    "clf = DecisionTreeClassifier()\n",
    "clf.fit(X_train,y_train)"
   ]
  },
  {
   "cell_type": "code",
   "execution_count": 26,
   "id": "b6fa9322",
   "metadata": {},
   "outputs": [],
   "source": [
    "# Make the prediction\n",
    "y_pred=clf.predict(X_test)"
   ]
  },
  {
   "cell_type": "code",
   "execution_count": 27,
   "id": "87cc70d1",
   "metadata": {},
   "outputs": [],
   "source": [
    "# Model Accuracy\n",
    "accuracy3 = float(\"{:.2f}\".format(metrics.accuracy_score(y_test, y_pred) * 100))"
   ]
  },
  {
   "cell_type": "code",
   "execution_count": 28,
   "id": "fb94f37c",
   "metadata": {},
   "outputs": [
    {
     "name": "stdout",
     "output_type": "stream",
     "text": [
      "DT Accuracy: 59.62 %\n",
      "21.38304615020752 seconds\n"
     ]
    }
   ],
   "source": [
    "#print(classification_report(y_test, y_pred))\n",
    "print(\"DT Accuracy:\",accuracy3, \"%\")\n",
    "end = time.time()\n",
    "print(end - start, \"seconds\")"
   ]
  },
  {
   "cell_type": "code",
   "execution_count": 29,
   "id": "79253a0d",
   "metadata": {},
   "outputs": [
    {
     "name": "stdout",
     "output_type": "stream",
     "text": [
      "DT precision, recall, f1-score, support score:\n",
      "\n",
      "              precision    recall  f1-score   support\n",
      "\n",
      "           0       0.66      0.75      0.70        28\n",
      "           1       0.56      0.43      0.49        23\n",
      "           2       0.00      0.00      0.00         1\n",
      "\n",
      "    accuracy                           0.60        52\n",
      "   macro avg       0.40      0.39      0.40        52\n",
      "weighted avg       0.60      0.60      0.59        52\n",
      "\n"
     ]
    }
   ],
   "source": [
    "print(\"DT precision, recall, f1-score, support score:\\n\")\n",
    "print(classification_report(y_test, y_pred))"
   ]
  },
  {
   "cell_type": "code",
   "execution_count": 30,
   "id": "72e81807",
   "metadata": {},
   "outputs": [
    {
     "name": "stdout",
     "output_type": "stream",
     "text": [
      "[[21  7  0]\n",
      " [11 10  2]\n",
      " [ 0  1  0]]\n"
     ]
    }
   ],
   "source": [
    "from sklearn.metrics import confusion_matrix, accuracy_score\n",
    "confmat = confusion_matrix(y_test, clf.predict(X_test))\n",
    "print(confmat)"
   ]
  },
  {
   "cell_type": "code",
   "execution_count": 31,
   "id": "c888d9aa",
   "metadata": {},
   "outputs": [
    {
     "data": {
      "image/png": "[encoded data removed]",
      "text/plain": [
       "<Figure size 180x180 with 1 Axes>"
      ]
     },
     "metadata": {
      "needs_background": "light"
     },
     "output_type": "display_data"
    }
   ],
   "source": [
    "fig, ax = plt.subplots(figsize=(2.5, 2.5))\n",
    "ax.matshow(confmat, alpha=0.3)\n",
    "for i in range(confmat.shape[0]):\n",
    "  for j in range(confmat.shape[1]):\n",
    "    ax.text(x=j, y=i, s=confmat[i, j], va='center', ha='center')"
   ]
  },
  {
   "cell_type": "code",
   "execution_count": null,
   "id": "6a30f371",
   "metadata": {},
   "outputs": [],
   "source": []
  }
 ],
 "metadata": {
  "kernelspec": {
   "display_name": "Python 3 (ipykernel)",
   "language": "python",
   "name": "python3"
  },
  "language_info": {
   "codemirror_mode": {
    "name": "ipython",
    "version": 3
   },
   "file_extension": ".py",
   "mimetype": "text/x-python",
   "name": "python",
   "nbconvert_exporter": "python",
   "pygments_lexer": "ipython3",
   "version": "3.9.12"
  }
 },
 "nbformat": 4,
 "nbformat_minor": 5
}
