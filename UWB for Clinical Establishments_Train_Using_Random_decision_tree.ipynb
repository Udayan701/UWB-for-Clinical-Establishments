{
 "cells": [
  {
   "cell_type": "code",
   "execution_count": 1,
   "id": "b3088b13",
   "metadata": {},
   "outputs": [],
   "source": [
    "import pandas as pd\n",
    "import numpy as np\n",
    "import time\n",
    "from sklearn.model_selection import train_test_split\n",
    "from sklearn.neighbors import KNeighborsClassifier\n",
    "from sklearn.ensemble import RandomForestClassifier\n",
    "from sklearn import metrics\n",
    "from sklearn.metrics import  classification_report,confusion_matrix\n",
    "import matplotlib.pyplot as plt\n",
    "%matplotlib inline"
   ]
  },
  {
   "cell_type": "code",
   "execution_count": 2,
   "id": "a91158c6",
   "metadata": {},
   "outputs": [],
   "source": [
    "# Read dataset csv with ; seperator\n",
    "df = pd.read_csv ('clinical_dataset.csv',sep=';')"
   ]
  },
  {
   "cell_type": "code",
   "execution_count": 3,
   "id": "29b2d701",
   "metadata": {},
   "outputs": [],
   "source": [
    "# Preprocessing of the clinical dataset\n",
    "# Convert nominal features to numerical\n",
    "df['fried'].replace(['Non frail','Pre-frail','Frail'],[0,1,2],inplace=True)\n",
    "df['gender'].replace(['F','M'],[0,1],inplace=True)\n",
    "df['ortho_hypotension'].replace(['No','Yes'],[0,1],inplace=True)\n",
    "df['vision'].replace(['Sees poorly','Sees moderately','Sees well'],[0,1,2],inplace=True)\n",
    "df['audition'].replace(['Hears poorly','Hears moderately','Hears well'],[0,1,2],inplace=True)\n",
    "df['weight_loss'].replace(['No','Yes'],[0,1],inplace=True)\n",
    "df['balance_single'].replace(['<5 sec','>5 sec'],[0,1],inplace=True)\n",
    "df['gait_optional_binary'] = df['gait_optional_binary'].astype(int)\n",
    "df['gait_speed_slower'].replace(['No','Yes'],[0,1],inplace=True)\n",
    "df['grip_strength_abnormal'].replace(['No','Yes'],[0,1],inplace=True)\n",
    "df['low_physical_activity'].replace(['No','Yes'],[0,1],inplace=True)\n",
    "df['memory_complain'].replace(['No','Yes'],[0,1],inplace=True)\n",
    "df['sleep'].replace(['No sleep problem','Occasional sleep problem','Permanent sleep problem'],[0,1,2],inplace=True)\n",
    "df['living_alone'].replace(['No','Yes'],[0,1],inplace=True)\n",
    "df['leisure_club'].replace(['No','Yes'],[0,1],inplace=True)\n",
    "df['house_suitable_participant'].replace(['No','Yes'],[0,1],inplace=True)\n",
    "df['house_suitable_professional'].replace(['No','Yes'],[0,1],inplace=True)\n",
    "df['health_rate'].replace(['1 - Very bad','2 - Bad','3 - Medium','4 - Good','5 - Excellent'],[0,1,2,3,4],inplace=True)\n",
    "df['health_rate_comparison'].replace(['1 - A lot worse','2 - A little worse','3 - About the same','4 - A little better','5 - A lot better'],[0,1,2,3,4],inplace=True)\n",
    "df['activity_regular'].replace(['No','< 2 h per week','> 2 h and < 5 h per week','> 5 h per week'],[0,1,2,3],inplace=True)\n",
    "df['smoking'].replace(['Never smoked','Past smoker (stopped at least 6 months)','Current smoker'],[0,1,2],inplace=True)\n"
   ]
  },
  {
   "cell_type": "code",
   "execution_count": 4,
   "id": "b3644a27",
   "metadata": {},
   "outputs": [],
   "source": [
    "# Remove erroneous values\n",
    "missing_values=[999,'test non realizable','Test not adequate']\n",
    "df.replace(missing_values,'',inplace=True)"
   ]
  },
  {
   "cell_type": "code",
   "execution_count": 5,
   "id": "2d2c3f71",
   "metadata": {},
   "outputs": [],
   "source": [
    "# Handle missing values\n",
    "# Replace empty values with NaN object\n",
    "df.replace('', np.nan, inplace=True)\n",
    "# Remove entries with missing values in some features\n",
    "df.dropna(inplace=True)"
   ]
  },
  {
   "cell_type": "code",
   "execution_count": 6,
   "id": "e3d4a728",
   "metadata": {},
   "outputs": [],
   "source": [
    "# Classification with KNN\n",
    "# Drop fried and 5 parameters used for generating the fried categorization\n",
    "X = df.drop(columns=['fried','weight_loss','exhaustion_score','gait_speed_slower','grip_strength_abnormal','low_physical_activity'])"
   ]
  },
  {
   "cell_type": "code",
   "execution_count": 7,
   "id": "9ba486cd",
   "metadata": {},
   "outputs": [],
   "source": [
    "# Assign fried column to y\n",
    "y = df['fried'].values"
   ]
  },
  {
   "cell_type": "code",
   "execution_count": 8,
   "id": "fa847a5f",
   "metadata": {},
   "outputs": [],
   "source": [
    "# Split dataset to train and test sets with 20% ratio\n",
    "X_train, X_test, y_train, y_test = train_test_split(X, y, test_size=0.20, random_state=1)\n",
    "start = time.time()"
   ]
  },
  {
   "cell_type": "code",
   "execution_count": 9,
   "id": "3577a070",
   "metadata": {},
   "outputs": [],
   "source": [
    "from sklearn.tree import DecisionTreeClassifier\n",
    "clf = DecisionTreeClassifier()"
   ]
  },
  {
   "cell_type": "code",
   "execution_count": 10,
   "id": "c3051875",
   "metadata": {},
   "outputs": [
    {
     "data": {
      "text/plain": [
       "DecisionTreeClassifier()"
      ]
     },
     "execution_count": 10,
     "metadata": {},
     "output_type": "execute_result"
    }
   ],
   "source": [
    "#Fit the random forest classifier from the training dataset\n",
    "clf.fit(X_train,y_train)"
   ]
  },
  {
   "cell_type": "code",
   "execution_count": 11,
   "id": "66be9bf7",
   "metadata": {},
   "outputs": [],
   "source": [
    "# Make the prediction\n",
    "y_pred = clf.predict(X_test)"
   ]
  },
  {
   "cell_type": "code",
   "execution_count": 12,
   "id": "cfcda636",
   "metadata": {},
   "outputs": [
    {
     "name": "stdout",
     "output_type": "stream",
     "text": [
      "KNN Accuracy: 65.38 %\n",
      "101.87354302406311 seconds\n"
     ]
    }
   ],
   "source": [
    "accuracy = float(\"{:.2f}\".format(metrics.accuracy_score(y_test, y_pred) * 100))\n",
    "print(\"KNN Accuracy:\",accuracy, \"%\")\n",
    "end = time.time()\n",
    "print(end - start, \"seconds\")\n",
    "start = time.time()"
   ]
  },
  {
   "cell_type": "code",
   "execution_count": 13,
   "id": "591636a7",
   "metadata": {},
   "outputs": [
    {
     "name": "stdout",
     "output_type": "stream",
     "text": [
      "DT precision, recall, f1-score, support score:\n",
      "\n",
      "              precision    recall  f1-score   support\n",
      "\n",
      "           0       0.73      0.79      0.76        28\n",
      "           1       0.63      0.52      0.57        23\n",
      "           2       0.00      0.00      0.00         1\n",
      "\n",
      "    accuracy                           0.65        52\n",
      "   macro avg       0.45      0.44      0.44        52\n",
      "weighted avg       0.67      0.65      0.66        52\n",
      "\n"
     ]
    }
   ],
   "source": [
    "print(\"DT precision, recall, f1-score, support score:\\n\")\n",
    "print(classification_report(y_test, y_pred))"
   ]
  },
  {
   "cell_type": "code",
   "execution_count": 15,
   "id": "ff74942f",
   "metadata": {},
   "outputs": [
    {
     "name": "stdout",
     "output_type": "stream",
     "text": [
      "[[22  6  0]\n",
      " [ 8 12  3]\n",
      " [ 0  1  0]]\n"
     ]
    }
   ],
   "source": [
    "from sklearn.metrics import confusion_matrix, accuracy_score\n",
    "confmat = confusion_matrix(y_test, clf.predict(X_test))\n",
    "print(confmat)"
   ]
  },
  {
   "cell_type": "code",
   "execution_count": 16,
   "id": "d0ae9312",
   "metadata": {},
   "outputs": [
    {
     "data": {
      "image/png": "[encoded data removed]",
      "text/plain": [
       "<Figure size 180x180 with 1 Axes>"
      ]
     },
     "metadata": {
      "needs_background": "light"
     },
     "output_type": "display_data"
    }
   ],
   "source": [
    "fig, ax = plt.subplots(figsize=(2.5, 2.5))\n",
    "ax.matshow(confmat, alpha=0.3)\n",
    "for i in range(confmat.shape[0]):\n",
    "  for j in range(confmat.shape[1]):\n",
    "    ax.text(x=j, y=i, s=confmat[i, j], va='center', ha='center')"
   ]
  },
  {
   "cell_type": "code",
   "execution_count": null,
   "id": "81c6f0c1",
   "metadata": {},
   "outputs": [],
   "source": []
  }
 ],
 "metadata": {
  "kernelspec": {
   "display_name": "Python 3 (ipykernel)",
   "language": "python",
   "name": "python3"
  },
  "language_info": {
   "codemirror_mode": {
    "name": "ipython",
    "version": 3
   },
   "file_extension": ".py",
   "mimetype": "text/x-python",
   "name": "python",
   "nbconvert_exporter": "python",
   "pygments_lexer": "ipython3",
   "version": "3.9.12"
  }
 },
 "nbformat": 4,
 "nbformat_minor": 5
}
